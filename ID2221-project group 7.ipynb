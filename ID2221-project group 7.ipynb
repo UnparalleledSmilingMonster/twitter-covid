{
 "cells": [
  {
   "cell_type": "code",
   "execution_count": 3,
   "id": "802b9670",
   "metadata": {},
   "outputs": [
    {
     "ename": "Syntax Error.",
     "evalue": "",
     "output_type": "error",
     "traceback": []
    }
   ],
   "source": [
    "//API key : uIzLyTxyWDhXGkHzsvqcYheaW\n",
    "//API key secret : uMUgtOQHERU1A4CvQFtJgbYQmLHG3mjmTmj14zQsOWGgIX7MlP\n",
    "//Bearer token : AAAAAAAAAAAAAAAAAAAAAMh9hwEAAAAAwtbFTpiXgy8WIcnoS4KoQGifIOg%3DT9LYVq3wKjEvtSX53mgJzh9idSESs5eEA3GiozDs0V0Q2ZxvaK"
   ]
  },
  {
   "cell_type": "markdown",
   "id": "b538c347",
   "metadata": {},
   "source": [
    "# Scala Installer for Colaboratory\n",
    "This notebook installs [Almond](http://almond.sh), a Scala kernel for Jupyter, into Colaboratory and configures it to make the preinstalled Python libraries accessible to Scala code (through [ScalaPy](https://github.com/shadaj/scalapy)).\n",
    "\n",
    "Because this installer is built on Almond, you get complete Scala support inside your notebooks, including the ability to get code completions and access to the [Jupyter-specific APIs](https://almond.sh/docs/api-jupyter). In addition, this installer configures Almond to be able to load preinstalled modules in Colab such as `numpy` and `tensorflow` through ScalaPy.\n",
    "\n",
    "If coming to this notebook from GitHub, make sure to **not reset your runtime** when running this notebook. In order to install the Scala kernel, the installer writes data to the runtime filesystem, so resetting would clear out the kernel.\n",
    "\n",
    "## Post-installation Setup\n",
    "After installing the Scala kernel, you will need to **completely restart the Jupyter instance** for the Scala notebook you want to run. If you are not yet connected to a Jupyter server (check the top right of your screen), you are fine and can immediately start running code.\n",
    "\n",
    "However, if you previously started a Jupyter server, you must now go to `Runtime > Manage Sessions` and terminate the session for the Scala notebook. Then after reloading the page, you will see a button to connect to a server, which will start up a new Jupyter server that will now have the Scala kernel loaded.\n",
    "\n",
    "**Note:** if your session expires and the machine is shut down, you will need to re-run this installer because Colab resets the filesystem"
   ]
  },
  {
   "cell_type": "code",
   "execution_count": 5,
   "id": "1d2831a6",
   "metadata": {},
   "outputs": [
    {
     "ename": "Error parsing magics!",
     "evalue": "Magic shell does not exist!",
     "output_type": "error",
     "traceback": []
    }
   ],
   "source": [
    "%%shell\n",
    "SCALA_VERSION=2.12.8 ALMOND_VERSION=0.3.0+16-548dc10f-SNAPSHOT\n",
    "curl -Lo coursier https://git.io/coursier-cli\n",
    "chmod +x coursier\n",
    "./coursier bootstrap \\\n",
    "    -r jitpack -r sonatype:snapshots \\\n",
    "    -i user -I user:sh.almond:scala-kernel-api_$SCALA_VERSION:$ALMOND_VERSION \\\n",
    "    sh.almond:scala-kernel_$SCALA_VERSION:$ALMOND_VERSION \\\n",
    "    --sources --default=true \\\n",
    "    -o almond-snapshot --embed-files=false\n",
    "rm coursier\n",
    "./almond-snapshot --install --global --force\n",
    "rm almond-snapshot"
   ]
  },
  {
   "cell_type": "code",
   "execution_count": 6,
   "id": "dfa17e8e",
   "metadata": {},
   "outputs": [
    {
     "ename": "Error parsing magics!",
     "evalue": "Magic shell does not exist!",
     "output_type": "error",
     "traceback": []
    }
   ],
   "source": [
    "%%shell\n",
    "echo \"{\n",
    "  \\\"language\\\" : \\\"scala\\\",\n",
    "  \\\"display_name\\\" : \\\"Scala\\\",\n",
    "  \\\"argv\\\" : [\n",
    "    \\\"bash\\\",\n",
    "    \\\"-c\\\",\n",
    "    \\\"env LD_PRELOAD=/usr/lib/x86_64-linux-gnu/libpython3.6m.so:\\$LD_PRELOAD java -jar /usr/local/share/jupyter/kernels/scala/launcher.jar --connection-file {connection_file}\\\"\n",
    "  ]\n",
    "}\" > /usr/local/share/jupyter/kernels/scala/kernel.json"
   ]
  },
  {
   "cell_type": "code",
   "execution_count": null,
   "id": "f56db197",
   "metadata": {},
   "outputs": [],
   "source": []
  }
 ],
 "metadata": {
  "kernelspec": {
   "display_name": "Apache Toree - Scala",
   "language": "scala",
   "name": "apache_toree_scala"
  },
  "language_info": {
   "codemirror_mode": "text/x-scala",
   "file_extension": ".scala",
   "mimetype": "text/x-scala",
   "name": "scala",
   "pygments_lexer": "scala",
   "version": "2.12.15"
  }
 },
 "nbformat": 4,
 "nbformat_minor": 5
}
